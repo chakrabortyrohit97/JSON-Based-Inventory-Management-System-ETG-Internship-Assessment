{
 "cells": [
  {
   "cell_type": "markdown",
   "id": "4a132e7d",
   "metadata": {},
   "source": [
    "# Purchasing Products"
   ]
  },
  {
   "cell_type": "code",
   "execution_count": 119,
   "id": "0acca337",
   "metadata": {},
   "outputs": [],
   "source": [
    "import json\n",
    "\n",
    "fd = open(\"record.json\",'r')\n",
    "r = fd.read()\n",
    "fd.close()\n",
    "\n",
    "records = json.loads(r)"
   ]
  },
  {
   "cell_type": "code",
   "execution_count": 120,
   "id": "fa3cc322",
   "metadata": {},
   "outputs": [
    {
     "data": {
      "text/plain": [
       "{'100210': {'Name': 'Lays',\n",
       "  'Price': 10,\n",
       "  'Qty': 230,\n",
       "  'Type': 'Chips',\n",
       "  'Flavour': 'Salty'},\n",
       " '100211': {'Name': 'Cadbury Bournville',\n",
       "  'Price': 38,\n",
       "  'Qty': 196,\n",
       "  'Type': 'Chocolate',\n",
       "  'Flavour': 'Dark Chocolate'},\n",
       " '100212': {'Name': 'Pepsi Can',\n",
       "  'Price': 22,\n",
       "  'Qty': 150,\n",
       "  'Type': 'Soft Drink',\n",
       "  'Flavour': 'Vanilla'},\n",
       " '100213': {'Name': 'Britannia Cake',\n",
       "  'Price': 10,\n",
       "  'Qty': 82,\n",
       "  'Type': 'Cake',\n",
       "  'Flavour': 'Fruits'},\n",
       " '100214': {'Name': 'Maggi',\n",
       "  'Price': 12,\n",
       "  'Qty': 225,\n",
       "  'Type': 'Noodles',\n",
       "  'Flavour': 'Masala'},\n",
       " '100215': {'Name': 'Bingo',\n",
       "  'Price': 20,\n",
       "  'Qty': 60,\n",
       "  'Type': 'Chips',\n",
       "  'Flavour': 'Potato'},\n",
       " '100216': {'Name': 'Oreo',\n",
       "  'Price': 10,\n",
       "  'Qty': 93,\n",
       "  'Type': 'Biscuit',\n",
       "  'Flavour': 'Chocolate'},\n",
       " '100217': {'Name': 'Amul Cheese Spread',\n",
       "  'Price': 85,\n",
       "  'Qty': 110,\n",
       "  'Type': 'Spread',\n",
       "  'Flavour': 'Garlic'},\n",
       " '100218': {'Name': 'Knorr Soup',\n",
       "  'Price': 49,\n",
       "  'Qty': 70,\n",
       "  'Type': 'Soup',\n",
       "  'Flavour': 'Mixed Vegetable'},\n",
       " '100219': {'Name': 'Dabur Honey',\n",
       "  'Price': 37,\n",
       "  'Qty': 76,\n",
       "  'Type': 'Honey',\n",
       "  'Flavour': 'Organic'},\n",
       " '100410': {'Name': 'Maggi Pasta',\n",
       "  'Price': 28,\n",
       "  'Qty': 53,\n",
       "  'Type': 'Pasta',\n",
       "  'Flavour': 'Tomato'},\n",
       " '100411': {'Name': 'Kellogs Cornflakes',\n",
       "  'Price': 140,\n",
       "  'Qty': 45,\n",
       "  'Type': 'Cornflakes',\n",
       "  'Flavour': 'Strawberry'},\n",
       " '100412': {'Name': 'Amul Fruit & Nut',\n",
       "  'Price': 100,\n",
       "  'Qty': 100,\n",
       "  'Type': 'Chocolate',\n",
       "  'Flavour': 'Fruit & Nut'},\n",
       " '100413': {'Name': 'Wai Wai',\n",
       "  'Price': 10,\n",
       "  'Qty': 150,\n",
       "  'Type': 'Noodles',\n",
       "  'Flavour': 'Chicken'},\n",
       " '100414': {'Name': 'Britannia Treat',\n",
       "  'Price': 10,\n",
       "  'Qty': 100,\n",
       "  'Type': 'Biscuit',\n",
       "  'Flavour': 'Strawberry'},\n",
       " '100415': {'Name': 'Frooti',\n",
       "  'Price': 10,\n",
       "  'Qty': 200,\n",
       "  'Type': 'Fruit Drink',\n",
       "  'Flavour': 'Mango'},\n",
       " '100416': {'Name': 'Eclairs',\n",
       "  'Price': 2,\n",
       "  'Qty': 294,\n",
       "  'Type': 'Toffee',\n",
       "  'Flavour': 'Chocolate'},\n",
       " '100417': {'Name': 'Britannia Jim Jam',\n",
       "  'Price': 10,\n",
       "  'Qty': 150,\n",
       "  'Type': 'Biscuit',\n",
       "  'Flavour': 'Strawberry'},\n",
       " '100418': {'Name': 'Sunfeast Pasta',\n",
       "  'Price': 22,\n",
       "  'Qty': 83,\n",
       "  'Type': 'Pasta',\n",
       "  'Flavour': 'Cheese'},\n",
       " '100419': {'Name': 'Nestle Kit Kat',\n",
       "  'Price': 25,\n",
       "  'Qty': 180,\n",
       "  'Type': 'Chocolate',\n",
       "  'Flavour': 'Strawberry'},\n",
       " '100420': {'Name': 'Parle Hide & Seek',\n",
       "  'Price': 10,\n",
       "  'Qty': 100,\n",
       "  'Type': 'Cookies',\n",
       "  'Flavour': 'Chocolate'},\n",
       " '100421': {'Name': 'Kissan Jam',\n",
       "  'Price': 165,\n",
       "  'Qty': 80,\n",
       "  'Type': 'Jam',\n",
       "  'Flavour': 'Pineapple'},\n",
       " '100422': {'Name': 'Pulse',\n",
       "  'Price': 1,\n",
       "  'Qty': 300,\n",
       "  'Type': 'Toffee',\n",
       "  'Flavour': 'Orange'},\n",
       " '100423': {'Name': 'Nestle Milky Bar',\n",
       "  'Price': 20,\n",
       "  'Qty': 170,\n",
       "  'Type': 'Chocolate',\n",
       "  'Flavour': 'Milk'},\n",
       " '100424': {'Name': \"Ching's Noodles\",\n",
       "  'Price': 15,\n",
       "  'Qty': 149,\n",
       "  'Type': 'Noodles',\n",
       "  'Flavour': 'Tomato'},\n",
       " '100425': {'Name': 'Fanta',\n",
       "  'Price': 40,\n",
       "  'Qty': 74,\n",
       "  'Type': 'Soft Drink',\n",
       "  'Flavour': 'Orange'},\n",
       " '100426': {'Name': 'Uncle Chips',\n",
       "  'Price': 10,\n",
       "  'Qty': 85,\n",
       "  'Type': 'Chips',\n",
       "  'Flavour': 'Salty'},\n",
       " '100427': {'Name': 'Britannia Marie',\n",
       "  'Price': 30,\n",
       "  'Qty': 80,\n",
       "  'Type': 'Biscuit',\n",
       "  'Flavour': 'Classic'},\n",
       " '100428': {'Name': 'Doritos',\n",
       "  'Price': 20,\n",
       "  'Qty': 180,\n",
       "  'Type': 'Chips',\n",
       "  'Flavour': 'Tomato'},\n",
       " '100429': {'Name': '5 Star',\n",
       "  'Price': 5,\n",
       "  'Qty': 125,\n",
       "  'Type': 'Chocolate',\n",
       "  'Flavour': 'Chocolate'},\n",
       " '100430': {'Name': 'Munch',\n",
       "  'Price': 10,\n",
       "  'Qty': 96,\n",
       "  'Type': 'Chocolate',\n",
       "  'Flavour': 'Chocolate'},\n",
       " '100431': {'Name': 'Cadbury Gems',\n",
       "  'Price': 25,\n",
       "  'Qty': 98,\n",
       "  'Type': 'Candy',\n",
       "  'Flavour': 'Chocolate'}}"
      ]
     },
     "execution_count": 120,
     "metadata": {},
     "output_type": "execute_result"
    }
   ],
   "source": [
    "records"
   ]
  },
  {
   "cell_type": "markdown",
   "id": "e689afaa",
   "metadata": {},
   "source": [
    "# Purchase"
   ]
  },
  {
   "cell_type": "code",
   "execution_count": 121,
   "id": "772dbdda",
   "metadata": {},
   "outputs": [
    {
     "name": "stdout",
     "output_type": "stream",
     "text": [
      "Enter your name please: Gaurav Roy\n",
      "Enter your phone no.: 785236482\n",
      "Enter the unique code: 100213\n",
      "Enter the Quantity of the product: 6\n",
      "*********************\n",
      "Product:  Britannia Cake\n",
      "Price:  10\n",
      "*********************\n",
      "Billing Amount:  60\n",
      "Thank You For Shopping\n"
     ]
    }
   ],
   "source": [
    "cust_name = input(\"Enter your name please: \")\n",
    "Ph_number    = input(\"Enter your phone no.: \")\n",
    "prod_code = input(\"Enter the unique code: \")\n",
    "prod_qty = int(input(\"Enter the Quantity of the product: \"))\n",
    "\n",
    "if(prod_qty > records[prod_code]['Qty']):\n",
    "    print(\"Sorry We do not have that much quantity availabe in our Stock\")\n",
    "else:\n",
    "    print(\"*********************\")\n",
    "    print(\"Product: \", records[prod_code]['Name'])\n",
    "    print(\"Price: \", records[prod_code]['Price'])\n",
    "    print(\"*********************\")\n",
    "    print(\"Billing Amount: \",records[prod_code]['Price'] * prod_qty)\n",
    "    print(\"Thank You For Shopping\")\n",
    "\n",
    "records[prod_code]['Qty'] = records[prod_code]['Qty'] - prod_qty"
   ]
  },
  {
   "cell_type": "markdown",
   "id": "20a3636c",
   "metadata": {},
   "source": [
    "# Update Inventory after Purchase"
   ]
  },
  {
   "cell_type": "code",
   "execution_count": 122,
   "id": "982345a6",
   "metadata": {},
   "outputs": [],
   "source": [
    "js = json.dumps(records)\n",
    "\n",
    "fd = open(\"record.json\",'w')\n",
    "fd.write(js)\n",
    "fd.close()"
   ]
  },
  {
   "cell_type": "markdown",
   "id": "45a91c38",
   "metadata": {},
   "source": [
    "# Sales JSON"
   ]
  },
  {
   "cell_type": "code",
   "execution_count": 123,
   "id": "a2538873",
   "metadata": {},
   "outputs": [],
   "source": [
    "# Adding Time\n",
    "\n",
    "import time\n",
    "time = time.ctime()"
   ]
  },
  {
   "cell_type": "code",
   "execution_count": 124,
   "id": "2e544c69",
   "metadata": {},
   "outputs": [
    {
     "data": {
      "text/plain": [
       "'Mon Sep  6 12:04:26 2021'"
      ]
     },
     "execution_count": 124,
     "metadata": {},
     "output_type": "execute_result"
    }
   ],
   "source": [
    "time"
   ]
  },
  {
   "cell_type": "code",
   "execution_count": null,
   "id": "6f0cafa2",
   "metadata": {},
   "outputs": [],
   "source": []
  },
  {
   "cell_type": "code",
   "execution_count": 125,
   "id": "9200ccc7",
   "metadata": {},
   "outputs": [
    {
     "data": {
      "text/plain": [
       "{'Prod Code': '100213',\n",
       " 'Prod Name': 'Britannia Cake',\n",
       " 'Qty': 6,\n",
       " 'Amount': 60,\n",
       " 'Customer Name': 'Gaurav Roy',\n",
       " 'Ph No.': '785236482',\n",
       " 'Time of Purchase': 'Mon Sep  6 12:04:26 2021'}"
      ]
     },
     "execution_count": 125,
     "metadata": {},
     "output_type": "execute_result"
    }
   ],
   "source": [
    "{'Prod Code' : prod_code,'Prod Name': records[prod_code]['Name'], 'Qty' : prod_qty, 'Amount': records[prod_code]['Price'] * prod_qty,'Customer Name': cust_name,'Ph No.':Ph_number,'Time of Purchase':time}"
   ]
  },
  {
   "cell_type": "code",
   "execution_count": 90,
   "id": "0720240f",
   "metadata": {},
   "outputs": [],
   "source": [
    "sales = {1 : {'Prod Code' : prod_code,'Prod Name': records[prod_code]['Name'], 'Qty' : prod_qty, 'Amount': records[prod_code]['Price'] * prod_qty,'Customer Name': cust_name,'Ph No.':Ph_number,'Time of Purchase':time},\n",
    "         2 : {'Prod Code' : prod_code,'Prod Name': records[prod_code]['Name'], 'Qty' : prod_qty, 'Amount': records[prod_code]['Price'] * prod_qty,'Customer Name': cust_name,'Ph No.':Ph_number,'Time of Purchase':time}}\n",
    "\n",
    "# Skip this line while adding a new sale otherwise duplicate entries will occur."
   ]
  },
  {
   "cell_type": "code",
   "execution_count": 126,
   "id": "5520024f",
   "metadata": {},
   "outputs": [],
   "source": [
    "\n",
    "sale = json.dumps(sales)"
   ]
  },
  {
   "cell_type": "code",
   "execution_count": 127,
   "id": "0922203b",
   "metadata": {},
   "outputs": [
    {
     "data": {
      "text/plain": [
       "{6: {'Prod Code': '100213',\n",
       "  'Prod Name': 'Britannia Cake',\n",
       "  'Qty': 6,\n",
       "  'Amount': 60,\n",
       "  'Customer Name': 'Gaurav Roy',\n",
       "  'Ph No.': '785236482',\n",
       "  'Time of Purchase': 'Mon Sep  6 12:04:26 2021'}}"
      ]
     },
     "execution_count": 127,
     "metadata": {},
     "output_type": "execute_result"
    }
   ],
   "source": [
    "{(len(sales) + 1) : {'Prod Code' : prod_code,'Prod Name': records[prod_code]['Name'], 'Qty' : prod_qty, 'Amount': records[prod_code]['Price'] * prod_qty,'Customer Name': cust_name,'Ph No.':Ph_number,'Time of Purchase':time}}"
   ]
  },
  {
   "cell_type": "code",
   "execution_count": 128,
   "id": "4bf571db",
   "metadata": {},
   "outputs": [],
   "source": [
    "sales[(len(sales) + 1)] = {'Prod Code' : prod_code,'Prod Name': records[prod_code]['Name'], 'Qty' : prod_qty, 'Amount': records[prod_code]['Price'] * prod_qty,'Customer Name': cust_name,'Ph No.':Ph_number,'Time of Purchase':time}"
   ]
  },
  {
   "cell_type": "code",
   "execution_count": 129,
   "id": "29290e00",
   "metadata": {},
   "outputs": [
    {
     "data": {
      "text/plain": [
       "{1: {'Prod Code': '100410',\n",
       "  'Prod Name': 'Maggi Pasta',\n",
       "  'Qty': 2,\n",
       "  'Amount': 56,\n",
       "  'Customer Name': 'Rohit',\n",
       "  'Ph No.': '7824813548',\n",
       "  'Time of Purchase': 'Mon Sep  6 11:54:10 2021'},\n",
       " 2: {'Prod Code': '100410',\n",
       "  'Prod Name': 'Maggi Pasta',\n",
       "  'Qty': 2,\n",
       "  'Amount': 56,\n",
       "  'Customer Name': 'Rohit',\n",
       "  'Ph No.': '7824813548',\n",
       "  'Time of Purchase': 'Mon Sep  6 11:54:10 2021'},\n",
       " 3: {'Prod Code': '100410',\n",
       "  'Prod Name': 'Maggi Pasta',\n",
       "  'Qty': 2,\n",
       "  'Amount': 56,\n",
       "  'Customer Name': 'Rohit',\n",
       "  'Ph No.': '7824813548',\n",
       "  'Time of Purchase': 'Mon Sep  6 11:54:10 2021'},\n",
       " 4: {'Prod Code': '100416',\n",
       "  'Prod Name': 'Eclairs',\n",
       "  'Qty': 6,\n",
       "  'Amount': 12,\n",
       "  'Customer Name': 'Vijay Kumar',\n",
       "  'Ph No.': '8521364785',\n",
       "  'Time of Purchase': 'Mon Sep  6 11:56:53 2021'},\n",
       " 5: {'Prod Code': '100211',\n",
       "  'Prod Name': 'Cadbury Bournville',\n",
       "  'Qty': 4,\n",
       "  'Amount': 152,\n",
       "  'Customer Name': 'Saurav',\n",
       "  'Ph No.': '9458125426',\n",
       "  'Time of Purchase': 'Mon Sep  6 11:58:12 2021'},\n",
       " 6: {'Prod Code': '100213',\n",
       "  'Prod Name': 'Britannia Cake',\n",
       "  'Qty': 6,\n",
       "  'Amount': 60,\n",
       "  'Customer Name': 'Gaurav Roy',\n",
       "  'Ph No.': '785236482',\n",
       "  'Time of Purchase': 'Mon Sep  6 12:04:26 2021'}}"
      ]
     },
     "execution_count": 129,
     "metadata": {},
     "output_type": "execute_result"
    }
   ],
   "source": [
    "sales"
   ]
  },
  {
   "cell_type": "code",
   "execution_count": null,
   "id": "c1d9d5cf",
   "metadata": {},
   "outputs": [],
   "source": []
  },
  {
   "cell_type": "code",
   "execution_count": 130,
   "id": "bdd22993",
   "metadata": {},
   "outputs": [],
   "source": [
    "sale = json.dumps(sales)"
   ]
  },
  {
   "cell_type": "code",
   "execution_count": 131,
   "id": "8ecaa3b2",
   "metadata": {},
   "outputs": [],
   "source": [
    "fd = open(\"sales.json\",'w')\n",
    "fd.write(sale)\n",
    "fd.close()"
   ]
  },
  {
   "cell_type": "code",
   "execution_count": null,
   "id": "9eb613ad",
   "metadata": {},
   "outputs": [],
   "source": []
  }
 ],
 "metadata": {
  "kernelspec": {
   "display_name": "Python 3",
   "language": "python",
   "name": "python3"
  },
  "language_info": {
   "codemirror_mode": {
    "name": "ipython",
    "version": 3
   },
   "file_extension": ".py",
   "mimetype": "text/x-python",
   "name": "python",
   "nbconvert_exporter": "python",
   "pygments_lexer": "ipython3",
   "version": "3.8.8"
  }
 },
 "nbformat": 4,
 "nbformat_minor": 5
}
